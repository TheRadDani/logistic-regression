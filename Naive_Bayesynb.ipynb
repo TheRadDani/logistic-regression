{
  "nbformat": 4,
  "nbformat_minor": 0,
  "metadata": {
    "colab": {
      "provenance": [],
      "collapsed_sections": [],
      "authorship_tag": "ABX9TyOk0cBehaeZNPM3znmg56rw",
      "include_colab_link": true
    },
    "kernelspec": {
      "name": "python3",
      "display_name": "Python 3"
    },
    "language_info": {
      "name": "python"
    }
  },
  "cells": [
    {
      "cell_type": "markdown",
      "metadata": {
        "id": "view-in-github",
        "colab_type": "text"
      },
      "source": [
        "<a href=\"https://colab.research.google.com/github/TheRadDani/logistic-regression/blob/main/Naive_Bayesynb.ipynb\" target=\"_parent\"><img src=\"https://colab.research.google.com/assets/colab-badge.svg\" alt=\"Open In Colab\"/></a>"
      ]
    },
    {
      "cell_type": "code",
      "execution_count": null,
      "metadata": {
        "id": "CytxRK-xHpZo"
      },
      "outputs": [],
      "source": [
        "import requests\n",
        "import pandas as pd\n",
        "import numpy as np\n",
        "# import config\n",
        "import tensorflow as tf\n",
        "from tensorflow import keras\n",
        "import seaborn as sns\n",
        "from pylab import rcParams\n",
        "import matplotlib.pyplot as plt\n",
        "from pandas.plotting import register_matplotlib_converters\n",
        "from sklearn.preprocessing import MinMaxScaler, StandardScaler\n",
        "import scipy.stats as st\n",
        "from pandas_profiling import ProfileReport\n",
        "register_matplotlib_converters()\n",
        "sns.set(style=\"whitegrid\", palette= \"muted\", font_scale =1.5)\n",
        "rcParams['figure.figsize']=22,10"
      ]
    },
    {
      "cell_type": "code",
      "source": [
        "import numpy as np\n",
        "from pyspark import SparkContext\n",
        "from pyspark.sql import SQLContext\n",
        "from pyspark.ml.classification import NaiveBayes\n",
        "from pyspark.ml.evaluation import MulticlassClassificationEvaluator\n",
        "from pyspark.ml.feature import VectorAssembler\n",
        "from sklearn.metrics import confusion_matrix\n",
        "from pyspark.sql import SparkSession\n",
        "import pandas as pd\n",
        "sc = SparkSession.builder\\\n",
        "     .master(\"local\")\\\n",
        "     .appName(\"Word Count\")\\\n",
        "     .config(\"spark.some.config.option\", \"some-value\")\\\n",
        "     .getOrCreate()\n",
        "sqlContext = SQLContext(sc)\n",
        "file = \"train.csv\"\n",
        "test_size = .3\n",
        "df = pd.read_csv(file)\n",
        "df.drop(['PassengerId','Name','SibSp','Parch','Ticket','Cabin','Embarked'],axis='columns',inplace=True)\n",
        "target = df.Survived\n",
        "\n",
        "from sklearn.preprocessing import LabelEncoder\n",
        "le = LabelEncoder()\n",
        "le.fit(df.Sex)\n",
        "list(le.classes_)\n",
        "encoded = le.transform(df.Sex)\n",
        "df.Sex = encoded\n",
        "from sklearn.impute import KNNImputer\n",
        "imputer = KNNImputer(n_neighbors=2)\n",
        "imputed = imputer.fit_transform(df['Age'].values.reshape(-1,1))\n",
        "df.Age = imputed\n",
        "df.rename(columns={\"Survived\":\"label\"},inplace=True)\n",
        "data = sqlContext.createDataFrame(df)\n",
        "inputs = df.drop(\"label\",axis=1)\n",
        "features = list(inputs.columns)\n",
        "\n",
        "va = VectorAssembler(inputCols = features, outputCol='features')\n",
        "\n",
        "from sklearn.model_selection import train_test_split\n",
        "X_train,X_test,y_train,y_test = train_test_split(inputs,target,test_size=test_size,random_state=42,shuffle=True)\n",
        "from sklearn.naive_bayes import GaussianNB\n",
        "model = GaussianNB()\n",
        "model = model.fit(X_train,y_train)\n",
        "\n",
        "va_df = va.transform(data)\n",
        "va_df = va_df.select(['features', 'label'])\n",
        "#va_df.show()\n",
        "(train, test) = va_df.randomSplit([0.8, 0.2])\n",
        "nb = NaiveBayes(smoothing=1.0, modelType=\"gaussian\")\n",
        "#nb = NaiveBayes(smoothing=1.0, modelType=\"multinomial\")\n",
        "nb = nb.fit(train)\n",
        "pred = nb.transform(test)\n",
        "pred.show(3) \n",
        "evaluator=MulticlassClassificationEvaluator(predictionCol=\"prediction\")\n",
        "acc = evaluator.evaluate(pred)\n",
        " \n",
        "print(\"Prediction Accuracy: \", acc)\n",
        " \n",
        "y_pred=pred.select(\"prediction\").collect()\n",
        "y_orig=pred.select(\"label\").collect()\n",
        "\n",
        "cm = confusion_matrix(y_orig, y_pred)\n",
        "print(\"Confusion Matrix:\")\n",
        "print(cm)"
      ],
      "metadata": {
        "colab": {
          "base_uri": "https://localhost:8080/"
        },
        "id": "p-jKEmGOJ6pg",
        "outputId": "05693bff-3efe-4551-cce4-8f887fb45f5e"
      },
      "execution_count": null,
      "outputs": [
        {
          "output_type": "stream",
          "name": "stderr",
          "text": [
            "/usr/local/lib/python3.7/dist-packages/pyspark/sql/context.py:114: FutureWarning: Deprecated in 3.0.0. Use SparkSession.builder.getOrCreate() instead.\n",
            "  FutureWarning,\n"
          ]
        },
        {
          "output_type": "stream",
          "name": "stdout",
          "text": [
            "+--------------------+-----+--------------------+--------------------+----------+\n",
            "|            features|label|       rawPrediction|         probability|prediction|\n",
            "+--------------------+-----+--------------------+--------------------+----------+\n",
            "|[1.0,0.0,14.0,120.0]|    1|[-15.572706606307...|[0.00116787615562...|       1.0|\n",
            "|[1.0,0.0,30.0,56....|    1|[-10.556499263703...|[0.05407298915068...|       1.0|\n",
            "|[1.0,0.0,31.0,113...|    1|[-14.070505853903...|[0.00281818775186...|       1.0|\n",
            "+--------------------+-----+--------------------+--------------------+----------+\n",
            "only showing top 3 rows\n",
            "\n",
            "Prediction Accuracy:  0.790715448033548\n",
            "Confusion Matrix:\n",
            "[[92 14]\n",
            " [23 50]]\n"
          ]
        }
      ]
    }
  ]
}